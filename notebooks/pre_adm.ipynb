{
 "cells": [
  {
   "cell_type": "code",
   "execution_count": 11,
   "metadata": {},
   "outputs": [],
   "source": [
    "import numpy as np\n",
    "import pandas as pd\n",
    "import pyarrow.parquet as pq\n",
    "\n",
    "import sshtunnel\n",
    "import psycopg2 as pg\n",
    "import json\n",
    "import os\n",
    "\n",
    "import duckdb"
   ]
  },
  {
   "cell_type": "code",
   "execution_count": 12,
   "metadata": {},
   "outputs": [],
   "source": [
    "def read_ccw_json(ccw_json, condition):\n",
    "    with open(ccw_json, 'r') as json_file:\n",
    "        ccw_dict = json.load(json_file)\n",
    "    \n",
    "    diag_string = (\n",
    "        \",\".join([f\"'{x}'\" for x in ccw_dict[condition][\"icd9\"]]) + \n",
    "        \",\" +\n",
    "        \",\".join([f\"'{x}'\" for x in ccw_dict[condition][\"icd10\"]])\n",
    "    )\n",
    "\n",
    "    ref_period = ccw_dict[condition][\"ref_period\"]\n",
    "\n",
    "    return ref_period, diag_string\n",
    "\n",
    "def get_years_before_ref_year(ref_year, first_year):\n",
    "    return [year for year in range(first_year, ref_year + 1)]"
   ]
  },
  {
   "cell_type": "code",
   "execution_count": 13,
   "metadata": {},
   "outputs": [],
   "source": [
    "dw_adm_prefix = \"../data/input/local_data/data_warehouse/dw_adm_xu_sabath_00_16/adm\"\n",
    "\n",
    "## start connection ----\n",
    "conn = duckdb.connect()\n",
    "\n",
    "ref_period, diag_string = read_ccw_json(\"../data/input/remote_data/ccw.json\", \"alzh\")"
   ]
  },
  {
   "cell_type": "code",
   "execution_count": 14,
   "metadata": {},
   "outputs": [
    {
     "name": "stdout",
     "output_type": "stream",
     "text": [
      "3\n",
      "'3310','G300','G301','G308','G309'\n"
     ]
    }
   ],
   "source": [
    "print(ref_period)\n",
    "print(diag_string)"
   ]
  },
  {
   "cell_type": "code",
   "execution_count": 15,
   "metadata": {},
   "outputs": [
    {
     "name": "stdout",
     "output_type": "stream",
     "text": [
      "## Preparing adm ----\n"
     ]
    },
    {
     "data": {
      "application/vnd.jupyter.widget-view+json": {
       "model_id": "d965bb63a17a456481afb0066ee9e501",
       "version_major": 2,
       "version_minor": 0
      },
      "text/plain": [
       "FloatProgress(value=0.0, layout=Layout(width='100%'), style=ProgressStyle(bar_color='black'))"
      ]
     },
     "metadata": {},
     "output_type": "display_data"
    },
    {
     "data": {
      "application/vnd.jupyter.widget-view+json": {
       "model_id": "cf6cc0a10726430d9c34944493dee1ad",
       "version_major": 2,
       "version_minor": 0
      },
      "text/plain": [
       "FloatProgress(value=0.0, layout=Layout(width='100%'), style=ProgressStyle(bar_color='black'))"
      ]
     },
     "metadata": {},
     "output_type": "display_data"
    },
    {
     "data": {
      "application/vnd.jupyter.widget-view+json": {
       "model_id": "5f2dc4b45f834c4393ea480da2dcc0d0",
       "version_major": 2,
       "version_minor": 0
      },
      "text/plain": [
       "FloatProgress(value=0.0, layout=Layout(width='100%'), style=ProgressStyle(bar_color='black'))"
      ]
     },
     "metadata": {},
     "output_type": "display_data"
    },
    {
     "data": {
      "application/vnd.jupyter.widget-view+json": {
       "model_id": "d2e1f524f58a490a86ec830d003062b4",
       "version_major": 2,
       "version_minor": 0
      },
      "text/plain": [
       "FloatProgress(value=0.0, layout=Layout(width='100%'), style=ProgressStyle(bar_color='black'))"
      ]
     },
     "metadata": {},
     "output_type": "display_data"
    },
    {
     "data": {
      "application/vnd.jupyter.widget-view+json": {
       "model_id": "2dd3a4a9f28741aca3951a9f6935daee",
       "version_major": 2,
       "version_minor": 0
      },
      "text/plain": [
       "FloatProgress(value=0.0, layout=Layout(width='100%'), style=ProgressStyle(bar_color='black'))"
      ]
     },
     "metadata": {},
     "output_type": "display_data"
    },
    {
     "data": {
      "application/vnd.jupyter.widget-view+json": {
       "model_id": "bca3047e494b4db0b552f6015090ed04",
       "version_major": 2,
       "version_minor": 0
      },
      "text/plain": [
       "FloatProgress(value=0.0, layout=Layout(width='100%'), style=ProgressStyle(bar_color='black'))"
      ]
     },
     "metadata": {},
     "output_type": "display_data"
    }
   ],
   "source": [
    "%%time\n",
    "\n",
    "diag_files = [f\"{dw_adm_prefix}_{year}.parquet\" for year in get_years_before_ref_year(2005, 2000)]\n",
    "diag_list = []\n",
    "for file in diag_files:\n",
    "    diag = conn.execute(f\"\"\"\n",
    "        SELECT DISTINCT\n",
    "            bene_id,\n",
    "            admission_date, \n",
    "            diag \n",
    "        FROM '{file}', UNNEST(diagnoses) AS adm(diag)\n",
    "        WHERE adm.diag IN ({diag_string})\n",
    "    \"\"\").fetchdf()\n",
    "    diag_list.append(diag)"
   ]
  },
  {
   "cell_type": "code",
   "execution_count": 17,
   "metadata": {},
   "outputs": [
    {
     "data": {
      "text/plain": [
       "6"
      ]
     },
     "execution_count": 17,
     "metadata": {},
     "output_type": "execute_result"
    }
   ],
   "source": [
    "len(diag_list)"
   ]
  },
  {
   "cell_type": "code",
   "execution_count": 18,
   "metadata": {},
   "outputs": [
    {
     "data": {
      "text/plain": [
       "(2274243, 3)"
      ]
     },
     "execution_count": 18,
     "metadata": {},
     "output_type": "execute_result"
    }
   ],
   "source": [
    "diag = pd.concat(diag_list)\n",
    "diag.shape"
   ]
  },
  {
   "cell_type": "code",
   "execution_count": 22,
   "metadata": {},
   "outputs": [],
   "source": [
    "diag = diag[['bene_id', 'admission_date']].groupby('bene_id').min().reset_index()\n",
    "diag.rename({'admission_date': 'first_adm_date'}, axis=1, inplace=True)"
   ]
  },
  {
   "cell_type": "code",
   "execution_count": 24,
   "metadata": {},
   "outputs": [
    {
     "name": "stdout",
     "output_type": "stream",
     "text": [
      "(1380620, 2)\n",
      "Index(['bene_id', 'first_adm_date'], dtype='object')\n"
     ]
    }
   ],
   "source": [
    "print(diag.shape)\n",
    "print(diag.columns)"
   ]
  }
 ],
 "metadata": {
  "kernelspec": {
   "display_name": "Python 3.9.12 ('medicare_QC')",
   "language": "python",
   "name": "python3"
  },
  "language_info": {
   "codemirror_mode": {
    "name": "ipython",
    "version": 3
   },
   "file_extension": ".py",
   "mimetype": "text/x-python",
   "name": "python",
   "nbconvert_exporter": "python",
   "pygments_lexer": "ipython3",
   "version": "3.9.12"
  },
  "orig_nbformat": 4,
  "vscode": {
   "interpreter": {
    "hash": "981eca662598f17faf7839a0c8dd29c517f1f8aa39752a2a0daf6724b2a3c2ea"
   }
  }
 },
 "nbformat": 4,
 "nbformat_minor": 2
}
