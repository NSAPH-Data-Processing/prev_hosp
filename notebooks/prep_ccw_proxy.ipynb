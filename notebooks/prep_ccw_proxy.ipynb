{
 "cells": [
  {
   "cell_type": "markdown",
   "metadata": {},
   "source": [
    "# Prepare CCW proxy"
   ]
  },
  {
   "cell_type": "markdown",
   "metadata": {},
   "source": [
    "* chonic condition algorithm from https://www2.ccwdata.org/documents/10280/19139608/ccw-cond-algo-alzdisease.pdf"
   ]
  },
  {
   "cell_type": "code",
   "execution_count": null,
   "metadata": {},
   "outputs": [],
   "source": [
    "## Load packages ----\n",
    "import numpy as np\n",
    "import pandas as pd\n",
    "import pyarrow.parquet as pq\n",
    "\n",
    "import sshtunnel\n",
    "import psycopg2 as pg\n",
    "import json\n",
    "import os\n",
    "\n",
    "import duckdb"
   ]
  },
  {
   "cell_type": "code",
   "execution_count": null,
   "metadata": {},
   "outputs": [],
   "source": [
    "## read icd_json ----\n",
    "with open('../data/input/remote_data/icd_codes.json', 'r') as json_file:\n",
    "  icd_dict = json.load(json_file)\n",
    "diag_string = \",\".join([f\"'{x}'\" for x in icd_dict['alzheimer']['icd9']]) + \",\" + \",\".join([f\"'{x}'\" for x in icd_dict['alzheimer']['icd10']])\n",
    "diag_string"
   ]
  },
  {
   "cell_type": "markdown",
   "metadata": {},
   "source": [
    "## Fetch admissions from Dorieh"
   ]
  },
  {
   "cell_type": "code",
   "execution_count": null,
   "metadata": {},
   "outputs": [],
   "source": [
    "## Open ssh tunnel to DB host ----\n",
    "tunnel = sshtunnel.SSHTunnelForwarder(\n",
    "    ('nsaph.rc.fas.harvard.edu', 22),\n",
    "    ssh_username=f'{os.environ[\"MY_NSAPH_SSH_USERNAME\"]}',\n",
    "    ssh_private_key=f'{os.environ[\"HOME\"]}/.ssh/id_rsa', \n",
    "    ssh_password=f'{os.environ[\"MY_NSAPH_SSH_PASSWORD\"]}', \n",
    "    remote_bind_address=(\"localhost\", 5432)\n",
    ")\n",
    "\n",
    "tunnel.start()"
   ]
  },
  {
   "cell_type": "code",
   "execution_count": null,
   "metadata": {},
   "outputs": [],
   "source": [
    "## Open connection to DB ----\n",
    "connection = pg.connect(\n",
    "    host='localhost',\n",
    "    database='nsaph2',\n",
    "    user=f'{os.environ[\"MY_NSAPH_DB_USERNAME\"]}',\n",
    "    password=f'{os.environ[\"MY_NSAPH_DB_PASSWORD\"]}', \n",
    "    port=tunnel.local_bind_port\n",
    ")"
   ]
  },
  {
   "cell_type": "code",
   "execution_count": null,
   "metadata": {},
   "outputs": [],
   "source": [
    "## read icd_json ----\n",
    "with open('../data/input/remote_data/icd_codes.json', 'r') as json_file:\n",
    "  icd_dict = json.load(json_file)"
   ]
  },
  {
   "cell_type": "code",
   "execution_count": null,
   "metadata": {},
   "outputs": [],
   "source": [
    "sql_query = f\"\"\"\n",
    "SELECT\n",
    "    bene_id, \n",
    "    diagnoses\n",
    "FROM medicare.admissions\n",
    "WHERE diagnoses && ARRAY[{diag_string}]\n",
    "LIMIT 10\n",
    "\"\"\"\n",
    "sql_query"
   ]
  },
  {
   "cell_type": "code",
   "execution_count": null,
   "metadata": {},
   "outputs": [],
   "source": [
    "## Request query ----\n",
    "df = pd.read_sql_query(sql_query, connection, index_col = 'bene_id').reset_index()"
   ]
  },
  {
   "cell_type": "markdown",
   "metadata": {},
   "source": [
    "## Fetch admissions from parquet datawarehouse"
   ]
  },
  {
   "cell_type": "code",
   "execution_count": null,
   "metadata": {},
   "outputs": [],
   "source": [
    "adm_prefix = \"../data/input/local_data/data_warehouse/dw_adm_xu_sabath_00_16/adm\""
   ]
  },
  {
   "cell_type": "code",
   "execution_count": null,
   "metadata": {},
   "outputs": [],
   "source": [
    "pq.read_table(f\"{adm_prefix}_2000.parquet\").column_names"
   ]
  },
  {
   "cell_type": "code",
   "execution_count": null,
   "metadata": {},
   "outputs": [],
   "source": [
    "## start connection ----\n",
    "conn = duckdb.connect()"
   ]
  },
  {
   "cell_type": "code",
   "execution_count": null,
   "metadata": {},
   "outputs": [],
   "source": [
    "df = conn.execute(f\"\"\"\n",
    "     SELECT \n",
    "          DISTINCT bene_id\n",
    "     FROM '{adm_prefix}_2000.parquet', UNNEST(diagnoses) AS adm(diag)\n",
    "     WHERE adm.diag IN ({diag_string})\n",
    "\"\"\").fetchdf()"
   ]
  },
  {
   "cell_type": "code",
   "execution_count": null,
   "metadata": {},
   "outputs": [],
   "source": [
    "print(df.columns)\n",
    "print(df.shape)"
   ]
  },
  {
   "cell_type": "markdown",
   "metadata": {},
   "source": [
    "## Obtain chronic conditions proxy"
   ]
  },
  {
   "cell_type": "code",
   "execution_count": null,
   "metadata": {},
   "outputs": [],
   "source": [
    "bene_prefix = \"../data/input/local_data/data_warehouse/dw_bene_xu_sabath_00_16/bene\""
   ]
  },
  {
   "cell_type": "code",
   "execution_count": null,
   "metadata": {},
   "outputs": [],
   "source": [
    "pq.read_table(f\"{bene_prefix}_2000.parquet\").column_names"
   ]
  },
  {
   "cell_type": "code",
   "execution_count": null,
   "metadata": {},
   "outputs": [],
   "source": [
    "diag_files = [f\"{adm_prefix}_{year}.parquet\" for year in [2001, 2002, 2003]]\n",
    "diag_queries = []\n",
    "\n",
    "for file in diag_files:\n",
    "    query = f\"\"\"\n",
    "        SELECT DISTINCT\n",
    "            bene_id,\n",
    "            admission_date, \n",
    "            diag \n",
    "        FROM '{file}', UNNEST(diagnoses) AS adm(diag)\n",
    "        WHERE adm.diag IN ({diag_string})\n",
    "    \"\"\"\n",
    "    diag_queries.append(query)\n",
    "\n",
    "diag_query = \" UNION ALL \".join(diag_queries)\n",
    "\n",
    "adm_query = f\"\"\"\n",
    "    WITH diag AS ({diag_query}) \n",
    "    SELECT \n",
    "        bene_id,\n",
    "        MIN(admission_date) as min_adm_date, \n",
    "        MAX(admission_date) as max_adm_date,\n",
    "        COUNT(diag) as n\n",
    "    FROM diag\n",
    "    GROUP BY bene_id\n",
    "    \"\"\"\n",
    "\n",
    "adm = conn.execute(adm_query).fetchdf()"
   ]
  },
  {
   "cell_type": "code",
   "execution_count": null,
   "metadata": {},
   "outputs": [],
   "source": [
    "print(adm.columns)\n",
    "print(adm.shape)"
   ]
  },
  {
   "cell_type": "code",
   "execution_count": null,
   "metadata": {},
   "outputs": [],
   "source": [
    "bene_in_claims = adm['bene_id'].unique()\n",
    "len(bene_in_claims)"
   ]
  },
  {
   "cell_type": "code",
   "execution_count": null,
   "metadata": {},
   "outputs": [],
   "source": [
    "hmo_files = [f\"{bene_prefix}_{year}.parquet\" for year in [2001, 2002, 2003]]\n",
    "hmo_queries = []\n",
    "\n",
    "for file in hmo_files:\n",
    "    query = f\"\"\"\n",
    "        SELECT\n",
    "            bene_id,\n",
    "            year, \n",
    "            SUM(hmo_mo) as hmo_mo \n",
    "        FROM '{file}'\n",
    "        GROUP BY \n",
    "            bene_id, year\n",
    "    \"\"\"\n",
    "    hmo_queries.append(query)\n",
    "\n",
    "hmo = conn.execute(\" UNION ALL \".join(hmo_queries)).fetchdf()"
   ]
  },
  {
   "cell_type": "code",
   "execution_count": null,
   "metadata": {},
   "outputs": [],
   "source": [
    "print(hmo.shape)\n",
    "print(hmo.columns)"
   ]
  },
  {
   "cell_type": "code",
   "execution_count": null,
   "metadata": {},
   "outputs": [],
   "source": [
    "hmo_files = [f\"{bene_prefix}_{year}.parquet\" for year in [2001, 2002, 2003]]\n",
    "hmo_queries = []\n",
    "for file in hmo_files:\n",
    "    q = f\"\"\"\n",
    "        SELECT\n",
    "            bene_id,\n",
    "            year, \n",
    "            SUM(hmo_mo) as hmo_y \n",
    "        FROM '{file}'\n",
    "        GROUP BY \n",
    "            bene_id, year\n",
    "    \"\"\"\n",
    "    hmo_queries.append(q)\n",
    "hmo_query = \" UNION ALL \".join(hmo_queries)\n",
    "\n",
    "ffs_query = f\"\"\"\n",
    "    WITH hmo AS ({hmo_query}) \n",
    "    SELECT \n",
    "        bene_id,\n",
    "        CASE WHEN SUM(hmo_y) = 0 THEN 1 ELSE 0 END AS ffs_coverage\n",
    "    FROM hmo\n",
    "    GROUP BY bene_id\n",
    "    \"\"\"\n",
    "\n",
    "ffs = conn.execute(ffs_query).fetchdf()"
   ]
  },
  {
   "cell_type": "code",
   "execution_count": null,
   "metadata": {},
   "outputs": [],
   "source": [
    "print(ffs.shape)\n",
    "print(ffs.columns)"
   ]
  },
  {
   "cell_type": "code",
   "execution_count": null,
   "metadata": {},
   "outputs": [],
   "source": [
    "bene_in_ffs = ffs.bene_id[ffs.ffs_coverage == 1].values\n",
    "len(bene_in_ffs)"
   ]
  },
  {
   "cell_type": "code",
   "execution_count": null,
   "metadata": {},
   "outputs": [],
   "source": [
    "bene = conn.execute(f\"\"\"\n",
    "     SELECT \n",
    "          bene_id, \n",
    "          year as rfrnc_yr\n",
    "     FROM '{bene_prefix}_2003.parquet'\n",
    "\"\"\").fetchdf()"
   ]
  },
  {
   "cell_type": "code",
   "execution_count": null,
   "metadata": {},
   "outputs": [],
   "source": [
    "print(bene.shape)\n",
    "print(bene.columns)"
   ]
  },
  {
   "cell_type": "code",
   "execution_count": null,
   "metadata": {},
   "outputs": [],
   "source": [
    "ffs['bene_id'].isin(bene['bene_id']).sum()"
   ]
  },
  {
   "cell_type": "code",
   "execution_count": null,
   "metadata": {},
   "outputs": [],
   "source": [
    "adm['bene_id'].isin(bene['bene_id']).sum()"
   ]
  },
  {
   "cell_type": "code",
   "execution_count": null,
   "metadata": {},
   "outputs": [],
   "source": [
    "bene = bene.merge(ffs, on='bene_id', how='left')\n",
    "bene['diag'] = bene['bene_id'].isin(adm['bene_id']).astype(int)"
   ]
  },
  {
   "cell_type": "code",
   "execution_count": null,
   "metadata": {},
   "outputs": [],
   "source": [
    "def compute_ccw_proxy(row):\n",
    "    if row['diag'] == 0 and row['ffs_coverage'] == 0:\n",
    "        return 0\n",
    "    elif row['diag'] == 1 and row['ffs_coverage'] == 0:\n",
    "        return 1\n",
    "    elif row['diag'] == 0 and row['ffs_coverage'] == 1:\n",
    "        return 2\n",
    "    else:\n",
    "        return 3\n",
    "\n",
    "bene['alzh'] = bene.apply(compute_ccw_proxy, axis=1)"
   ]
  },
  {
   "cell_type": "code",
   "execution_count": null,
   "metadata": {},
   "outputs": [],
   "source": [
    "bene = bene.merge(adm[['bene_id', 'min_adm_date']], on='bene_id', how='left')"
   ]
  },
  {
   "cell_type": "code",
   "execution_count": null,
   "metadata": {},
   "outputs": [],
   "source": [
    "bene = bene.rename(columns={'min_adm_date': 'alzh_ever'})"
   ]
  },
  {
   "cell_type": "code",
   "execution_count": null,
   "metadata": {},
   "outputs": [],
   "source": [
    "bene = bene.drop(['ffs_coverage', 'diag'], axis=1)"
   ]
  },
  {
   "cell_type": "code",
   "execution_count": null,
   "metadata": {},
   "outputs": [],
   "source": [
    "bene.columns"
   ]
  },
  {
   "cell_type": "code",
   "execution_count": null,
   "metadata": {},
   "outputs": [],
   "source": [
    "bene.rfrnc_yr.sample(5)"
   ]
  },
  {
   "cell_type": "code",
   "execution_count": null,
   "metadata": {},
   "outputs": [],
   "source": [
    "bene.alzh.sample(5)"
   ]
  },
  {
   "cell_type": "code",
   "execution_count": null,
   "metadata": {},
   "outputs": [],
   "source": [
    "bene.alzh_ever[bene.alzh_ever.notna()].sample(5)"
   ]
  }
 ],
 "metadata": {
  "kernelspec": {
   "display_name": "Python 3.9.12 ('medicare_QC')",
   "language": "python",
   "name": "python3"
  },
  "language_info": {
   "codemirror_mode": {
    "name": "ipython",
    "version": 3
   },
   "file_extension": ".py",
   "mimetype": "text/x-python",
   "name": "python",
   "nbconvert_exporter": "python",
   "pygments_lexer": "ipython3",
   "version": "3.9.12"
  },
  "vscode": {
   "interpreter": {
    "hash": "981eca662598f17faf7839a0c8dd29c517f1f8aa39752a2a0daf6724b2a3c2ea"
   }
  }
 },
 "nbformat": 4,
 "nbformat_minor": 4
}
