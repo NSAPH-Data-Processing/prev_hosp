{
 "cells": [
  {
   "cell_type": "code",
   "execution_count": null,
   "metadata": {},
   "outputs": [],
   "source": [
    "import pandas as pd\n",
    "import argparse\n",
    "import json\n",
    "import duckdb\n",
    "import pyarrow.parquet as pq"
   ]
  },
  {
   "cell_type": "code",
   "execution_count": null,
   "metadata": {},
   "outputs": [],
   "source": [
    "input_prefix=\"../data/intermediate/scratch/ccw_proxy\"\n",
    "output_prefix=\"../data/output/ccw_proxy/ccw_proxy\"\n",
    "ccw_json=\"../data/input/remote_data/ccw.json\"\n",
    "ref_year=2005\n",
    "dw_bene_prefix=\"../data/input/local_data/data_warehouse/dw_bene_xu_sabath_00_16/bene\""
   ]
  },
  {
   "cell_type": "markdown",
   "metadata": {},
   "source": [
    "# Output"
   ]
  },
  {
   "cell_type": "markdown",
   "metadata": {},
   "source": [
    "* Merge intermediate files"
   ]
  },
  {
   "cell_type": "code",
   "execution_count": null,
   "metadata": {},
   "outputs": [],
   "source": [
    "pq.read_table(f\"{input_prefix}_copd_{ref_year}.parquet\").column_names"
   ]
  },
  {
   "cell_type": "code",
   "execution_count": null,
   "metadata": {},
   "outputs": [],
   "source": [
    "conn = duckdb.connect()\n",
    "\n",
    "df = conn.execute(f\"\"\"\n",
    "    SELECT *\n",
    "    FROM '{input_prefix}_ami_2000.parquet'\n",
    "\"\"\"\n",
    ").fetch_df()\n",
    "df.head()"
   ]
  },
  {
   "cell_type": "markdown",
   "metadata": {},
   "source": [
    "## Aproach registering tables"
   ]
  },
  {
   "cell_type": "code",
   "execution_count": null,
   "metadata": {},
   "outputs": [],
   "source": [
    "# Connect to a DuckDB in-memory database\n",
    "con_ccw = duckdb.connect()\n",
    "\n",
    "# Iterate over the conditions and register tables in DuckDB\n",
    "for idx, condition in enumerate(['anemia', 'ami', 'asthma']):\n",
    "    file = f\"{input_prefix}_{condition}_2000.parquet\"\n",
    "    table = pq.read_table(file)\n",
    "    df = table.to_pandas()\n",
    "    df.drop(columns=\"rfrnc_yr\", inplace=True)\n",
    "    df.reset_index(inplace=True)\n",
    "    # Create a temporary table in DuckDB\n",
    "    con_ccw.register(f'temp_table_{idx}', df)\n",
    "\n",
    "# Query the temporary tables\n",
    "for idx in range(len(['anemia', 'ami', 'asthma'])):\n",
    "    df = con_ccw.execute(f'SELECT * FROM temp_table_{idx} LIMIT 100').fetch_df()\n",
    "    print(df.head())"
   ]
  },
  {
   "cell_type": "code",
   "execution_count": null,
   "metadata": {},
   "outputs": [],
   "source": [
    "# Define the initial SQL query using the first temporary table as the base table\n",
    "query = f'SELECT *, 2000 AS rfrnc_yr FROM temp_table_0'\n",
    "\n",
    "# Iterate over the remaining temporary tables and perform left joins\n",
    "for idx in range(1, len(['anemia', 'ami', 'asthma']) ):\n",
    "    # Define the join condition\n",
    "    join_condition = f'USING(bene_id)'\n",
    "\n",
    "    # Update the query with the left join\n",
    "    query = f'{query} LEFT JOIN temp_table_{idx} {join_condition}'\n",
    "\n",
    "print(query)"
   ]
  },
  {
   "cell_type": "code",
   "execution_count": null,
   "metadata": {},
   "outputs": [],
   "source": [
    "# Execute the final query and fetch the result into a DuckDB DataFrame\n",
    "result = con_ccw.execute(query).fetchdf()\n",
    "\n",
    "# Print the result\n",
    "print(result)"
   ]
  },
  {
   "cell_type": "code",
   "execution_count": null,
   "metadata": {},
   "outputs": [],
   "source": [
    "result[result.anemia == 1]"
   ]
  },
  {
   "cell_type": "code",
   "execution_count": null,
   "metadata": {},
   "outputs": [],
   "source": [
    "# Close the connection to the DuckDB database\n",
    "con_ccw.close()"
   ]
  },
  {
   "cell_type": "markdown",
   "metadata": {},
   "source": [
    "## Approach querying parquets directly"
   ]
  },
  {
   "cell_type": "code",
   "execution_count": null,
   "metadata": {},
   "outputs": [],
   "source": [
    "with open(ccw_json, 'r') as json_file:\n",
    "        ccw_dict = json.load(json_file)\n",
    "\n",
    "conditions_list = list(ccw_dict.keys())\n",
    "conditions_list.remove('stroke')\n",
    "conditions_list"
   ]
  },
  {
   "cell_type": "code",
   "execution_count": null,
   "metadata": {},
   "outputs": [],
   "source": [
    "files_list = [f\"{input_prefix}_{c_}_2000.parquet\" for c_ in conditions_list[:2]]\n",
    "files_list"
   ]
  },
  {
   "cell_type": "code",
   "execution_count": null,
   "metadata": {},
   "outputs": [],
   "source": [
    "# Define the initial SQL query using the first table as the base table\n",
    "query = f\"SELECT *, 2000 AS rfrnc_yr FROM '{files_list[0]}'\"\n",
    "\n",
    "# Iterate over the remaining tables and perform left joins\n",
    "for i_ in range(1, len(files_list) ):\n",
    "    # Update the query with the left join\n",
    "    query = f\"{query} LEFT JOIN '{files_list[i_]}' USING(bene_id)\"\n",
    "\n",
    "print(query)"
   ]
  },
  {
   "cell_type": "markdown",
   "metadata": {},
   "source": [
    "* it is harder with this approach to remove rfrnc_yr from each table"
   ]
  },
  {
   "cell_type": "code",
   "execution_count": null,
   "metadata": {},
   "outputs": [],
   "source": [
    "# Connect to a DuckDB in-memory database\n",
    "con_ccw = duckdb.connect()\n",
    "\n",
    "# Execute the final query and fetch the result into a DuckDB DataFrame\n",
    "result = con_ccw.execute(query).fetchdf()\n",
    "\n",
    "# Print the result"
   ]
  },
  {
   "cell_type": "markdown",
   "metadata": {},
   "source": [
    "## eda output"
   ]
  },
  {
   "cell_type": "code",
   "execution_count": null,
   "metadata": {},
   "outputs": [],
   "source": [
    "pq.read_table(\"../src/ccw_proxy_2016.parquet\").column_names"
   ]
  },
  {
   "cell_type": "code",
   "execution_count": null,
   "metadata": {},
   "outputs": [],
   "source": [
    "conn = duckdb.connect()\n",
    "\n",
    "conn.execute(f\"\"\"\n",
    "    SELECT \n",
    "        anemia, \n",
    "        count(*) as n\n",
    "    FROM '../src/ccw_proxy_2005.parquet'\n",
    "    GROUP BY anemia\n",
    "\"\"\"\n",
    ").fetch_df()"
   ]
  }
 ],
 "metadata": {
  "kernelspec": {
   "display_name": "Python 3.9.12 ('medicare_QC')",
   "language": "python",
   "name": "python3"
  },
  "language_info": {
   "codemirror_mode": {
    "name": "ipython",
    "version": 3
   },
   "file_extension": ".py",
   "mimetype": "text/x-python",
   "name": "python",
   "nbconvert_exporter": "python",
   "pygments_lexer": "ipython3",
   "version": "3.10.12"
  },
  "orig_nbformat": 4,
  "vscode": {
   "interpreter": {
    "hash": "981eca662598f17faf7839a0c8dd29c517f1f8aa39752a2a0daf6724b2a3c2ea"
   }
  }
 },
 "nbformat": 4,
 "nbformat_minor": 2
}
